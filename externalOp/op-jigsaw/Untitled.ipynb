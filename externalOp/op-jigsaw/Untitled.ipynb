{
 "cells": [
  {
   "cell_type": "code",
   "execution_count": 4,
   "metadata": {},
   "outputs": [],
   "source": [
    "import spacy\n",
    "nlp = spacy.load('en_core_web_lg')"
   ]
  },
  {
   "cell_type": "code",
   "execution_count": 14,
   "metadata": {},
   "outputs": [],
   "source": [
    "texts = ['firemen are red', 'policemen are blue', 'johnson peterson', 'abraham lincoln']\n",
    "docs = [nlp(txt) for txt in texts]"
   ]
  },
  {
   "cell_type": "code",
   "execution_count": 26,
   "metadata": {},
   "outputs": [
    {
     "name": "stdout",
     "output_type": "stream",
     "text": [
      "[1.0, 0]\n",
      "[0.8712019397995316, 1]\n",
      "[0.15261396503946176, 2]\n",
      "[0.14868733495303213, 3]\n",
      "[0.8712019397995316, 0]\n",
      "[1.0, 1]\n",
      "[0.123065934145434, 2]\n",
      "[0.1076720728341147, 3]\n",
      "[0.15261396503946176, 0]\n",
      "[0.123065934145434, 1]\n",
      "[1.0, 2]\n",
      "[0.6132075999784364, 3]\n",
      "[0.14868733495303213, 0]\n",
      "[0.1076720728341147, 1]\n",
      "[0.6132075999784364, 2]\n",
      "[1.0, 3]\n"
     ]
    }
   ],
   "source": [
    "for text in docs:\n",
    "    for idx2, t2 in enumerate(docs):\n",
    "        print([text.similarity(t2), idx2])"
   ]
  },
  {
   "cell_type": "code",
   "execution_count": 12,
   "metadata": {},
   "outputs": [
    {
     "ename": "TypeError",
     "evalue": "'zip' object is not subscriptable",
     "output_type": "error",
     "traceback": [
      "\u001b[0;31m---------------------------------------------------------------------------\u001b[0m",
      "\u001b[0;31mTypeError\u001b[0m                                 Traceback (most recent call last)",
      "\u001b[0;32m<ipython-input-12-6a1284577a36>\u001b[0m in \u001b[0;36m<module>\u001b[0;34m()\u001b[0m\n\u001b[0;32m----> 1\u001b[0;31m \u001b[0ma\u001b[0m\u001b[0;34m[\u001b[0m\u001b[0;36m0\u001b[0m\u001b[0;34m]\u001b[0m\u001b[0;34m\u001b[0m\u001b[0m\n\u001b[0m",
      "\u001b[0;31mTypeError\u001b[0m: 'zip' object is not subscriptable"
     ]
    }
   ],
   "source": []
  },
  {
   "cell_type": "code",
   "execution_count": null,
   "metadata": {},
   "outputs": [],
   "source": []
  }
 ],
 "metadata": {
  "kernelspec": {
   "display_name": "Python 3",
   "language": "python",
   "name": "python3"
  },
  "language_info": {
   "codemirror_mode": {
    "name": "ipython",
    "version": 3
   },
   "file_extension": ".py",
   "mimetype": "text/x-python",
   "name": "python",
   "nbconvert_exporter": "python",
   "pygments_lexer": "ipython3",
   "version": "3.6.4"
  }
 },
 "nbformat": 4,
 "nbformat_minor": 2
}
