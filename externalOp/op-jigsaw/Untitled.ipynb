{
 "cells": [
  {
   "cell_type": "code",
   "execution_count": 4,
   "metadata": {},
   "outputs": [],
   "source": [
    "import spacy\n",
    "nlp = spacy.load('en_core_web_lg')"
   ]
  },
  {
   "cell_type": "code",
   "execution_count": 112,
   "metadata": {},
   "outputs": [
    {
     "data": {
      "text/plain": [
       "{'_id': 'cjgq7nq8n0004qesedgw5r9tc',\n",
       " 'activityData': {'structure': 'individual',\n",
       "  'payload': {'afdfsddsfdjj': {'data': {'text': 'the university should install solar cell panels to save electricity'}},\n",
       "   '395ii5McdAFKEWfTY': {'data': {'text': 'the school should consume less energy'}},\n",
       "   '3xxddsd9dAFKEWfTY': {'data': {'text': 'we should all use our bicycles to work'}},\n",
       "   'qbsXNuujdPNq47yMD': {'data': {'text': 'we should walk more'}}}},\n",
       " 'socialStructure': {},\n",
       " 'globalStructure': {'studentIds': ['qbsXNuujdPNq47yMD', '395im5McdAFKEWfTY'],\n",
       "  'students': {'qbsXNuujdPNq47yMD': 'pter', '395im5McdAFKEWfTY': 'alla'}}}"
      ]
     },
     "execution_count": 112,
     "metadata": {},
     "output_type": "execute_result"
    }
   ],
   "source": [
    "import json\n",
    "object = json.loads('{\"_id\":\"cjgq7nq8n0004qesedgw5r9tc\",\"activityData\":{\"structure\":\"individual\",\"payload\":{\"afdfsddsfdjj\":{\"data\":{\"text\":\"the university should install solar cell panels to save electricity\"}},\"395ii5McdAFKEWfTY\":{\"data\":{\"text\":\"the school should consume less energy\"}},\"3xxddsd9dAFKEWfTY\":{\"data\":{\"text\":\"we should all use our bicycles to work\"}},\"qbsXNuujdPNq47yMD\":{\"data\":{\"text\":\"we should walk more\"}}}},\"socialStructure\":{},\"globalStructure\":{\"studentIds\":[\"qbsXNuujdPNq47yMD\",\"395im5McdAFKEWfTY\"],\"students\":{\"qbsXNuujdPNq47yMD\":\"pter\",\"395im5McdAFKEWfTY\":\"alla\"}}}')\n",
    "object"
   ]
  },
  {
   "cell_type": "code",
   "execution_count": 113,
   "metadata": {},
   "outputs": [
    {
     "name": "stdout",
     "output_type": "stream",
     "text": [
      "[[0, 0], [1, 0], [2, 1], [3, 1]]\n"
     ]
    }
   ],
   "source": [
    "studentmapping = [k for k, v in object['activityData']['payload'].items()]\n",
    "texts = [v['data']['text'] for k, v in object['activityData']['payload'].items()]\n",
    "docs = [nlp(txt).vector for txt in texts]\n",
    "\n",
    "from sklearn.cluster import KMeans\n",
    "kmeans = KMeans(n_clusters=2)\n",
    "kmeans.fit(docs)\n",
    "y_kmeans = kmeans.predict(docs)\n",
    "indices = [[i, k] for (i,k) in enumerate(y_kmeans)]\n",
    "print(indices)"
   ]
  },
  {
   "cell_type": "code",
   "execution_count": 108,
   "metadata": {},
   "outputs": [
    {
     "data": {
      "text/plain": [
       "{'group': {0: ['qbsxxxXNuujdPNq47yMD', 'afdfsddsfdjj', 'qbsXNuujdPNq47yMD'],\n",
       "  1: ['11395imdAFKEWfTYxxx', '395ii5McdAFKEWfTY', '11395imdAFKEWfTY'],\n",
       "  2: ['34444McdAFKEWfrrTY', '3xxddsd9dAFKEWfTY', '34444McdAFKEWfTY']},\n",
       " 'role': {1: ['qbsxxxXNuujdPNq47yMD',\n",
       "   '11395imdAFKEWfTYxxx',\n",
       "   '34444McdAFKEWfrrTY'],\n",
       "  2: ['afdfsddsfdjj', '395ii5McdAFKEWfTY', '3xxddsd9dAFKEWfTY'],\n",
       "  3: ['qbsXNuujdPNq47yMD', '11395imdAFKEWfTY', '34444McdAFKEWfTY']}}"
      ]
     },
     "execution_count": 108,
     "metadata": {},
     "output_type": "execute_result"
    }
   ],
   "source": [
    "from sklearn.cluster import KMeans\n",
    "kmeans = KMeans(n_clusters=3)\n",
    "kmeans.fit(docs)\n",
    "y_kmeans = kmeans.predict(docs)\n",
    "indices = [[i, k] for (i,k) in enumerate(y_kmeans)]\n",
    "print(indices)\n",
    "roles = {}\n",
    "groups = {}\n",
    "\n",
    "for role in [1,2,3]:\n",
    "    roles[role] = [studentmapping[i] for (i,k) in indices if k == role-1]\n",
    "\n",
    "for group in [0,1,2]:\n",
    "    groups[group] = [roles[1][group], roles[2][group], roles[3][group]]\n",
    "\n",
    "product = {'group': groups, 'role': roles}\n",
    "\n",
    "product"
   ]
  },
  {
   "cell_type": "code",
   "execution_count": 2,
   "metadata": {},
   "outputs": [],
   "source": [
    "from sklearn.datasets.samples_generator import make_blobs\n",
    "X, y_true = make_blobs(n_samples=300, centers=4,\n",
    "                       cluster_std=0.60, random_state=0)\n"
   ]
  },
  {
   "cell_type": "code",
   "execution_count": 37,
   "metadata": {},
   "outputs": [],
   "source": [
    "a = {}\n",
    "a[0] = 'hi'"
   ]
  },
  {
   "cell_type": "code",
   "execution_count": 38,
   "metadata": {},
   "outputs": [
    {
     "data": {
      "text/plain": [
       "{0: 'hi'}"
      ]
     },
     "execution_count": 38,
     "metadata": {},
     "output_type": "execute_result"
    }
   ],
   "source": [
    "a"
   ]
  },
  {
   "cell_type": "code",
   "execution_count": null,
   "metadata": {},
   "outputs": [],
   "source": [
    "students = {}\n",
    "for (i, k) in indices:\n",
    "    students[studentmapping[i]] = {}\n",
    "\n",
    "for (i, group) in enumerate(groups):\n",
    "    for student in groups[group]:\n",
    "        students[studentmapping[student]]['group'] = i\n",
    "\n",
    "for (i, role) in enumerate(roles):\n",
    "    for student in roles[role]:\n",
    "        students[studentmapping[student]]['role'] = i\n",
    "\n",
    "students"
   ]
  }
 ],
 "metadata": {
  "kernelspec": {
   "display_name": "Python 3",
   "language": "python",
   "name": "python3"
  },
  "language_info": {
   "codemirror_mode": {
    "name": "ipython",
    "version": 3
   },
   "file_extension": ".py",
   "mimetype": "text/x-python",
   "name": "python",
   "nbconvert_exporter": "python",
   "pygments_lexer": "ipython3",
   "version": "3.6.4"
  }
 },
 "nbformat": 4,
 "nbformat_minor": 2
}
